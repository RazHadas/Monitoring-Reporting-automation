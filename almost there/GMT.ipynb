{
 "cells": [
  {
   "cell_type": "code",
   "execution_count": 1,
   "id": "377f9a09",
   "metadata": {},
   "outputs": [],
   "source": [
    "#importing libararies\n",
    "import pandas as pd\n",
    "import numpy as np\n",
    "import os\n",
    "from __future__ import print_function\n",
    "from mailmerge import MailMerge\n",
    "from datetime import date\n",
    "import docx\n",
    "import import_ipynb\n",
    "import glob\n",
    "import tkinter\n",
    "from tkinter import filedialog\n",
    "import warnings\n",
    "warnings.filterwarnings(\"ignore\")\n",
    "\n",
    "\n",
    "def format_sheet(file_path:str,template_path:str,sheet_num_template=0,run=0):\n",
    "    \"\"\"\n",
    "    file_path: the file you want to design, must bx xlsx\n",
    "    template_path: the teplate of the design, must bx xlsx\n",
    "        \"\"\"\n",
    "    # format sheet\n",
    "    xlsx=pd.ExcelWriter(file_path, engine='openpyxl', mode='a')\n",
    "    for i in range(len(xlsx.book.worksheets)):\n",
    "        new_sheet=xlsx.book.worksheets[run]\n",
    "        template=pd.ExcelWriter(template_path,engine='openpyxl', mode='a')\n",
    "        default_sheet=template.book.worksheets[sheet_num_template]\n",
    "        from copy import copy\n",
    "        new_sheet.sheet_view.rightToLeft=True\n",
    "        for row in default_sheet.rows:\n",
    "            for cell in row:\n",
    "                new_cell=new_sheet.cell(row=cell.row, column=cell.col_idx)\n",
    "                if cell.has_style and new_cell.value != None:\n",
    "                    new_cell.font=copy(cell.font)\n",
    "                    new_cell.border=copy(cell.border)\n",
    "                    new_cell.fill=copy(cell.fill)\n",
    "                    new_cell.number_format=copy(cell.number_format)\n",
    "                    new_cell.protection=copy(cell.protection)\n",
    "                    new_cell.alignment=copy(cell.alignment)\n",
    "        from openpyxl.utils import get_column_letter\n",
    "        for i in range(default_sheet.max_column):\n",
    "            new_sheet.column_dimensions[get_column_letter(i + 1)].width=default_sheet.column_dimensions[\n",
    "                get_column_letter(i + 1)].width\n",
    "    \n",
    "    xlsx.save()\n",
    "def change_names_and_order(file_path:str,df:pd.DataFrame):\n",
    "    \"\"\"\n",
    "    name of columns in names must be \"old_name\", \"new_name\"\n",
    "        \"\"\"\n",
    "    match_names=pd.read_excel(file_path)\n",
    "    match_names.index=match_names.old_name\n",
    "    dict_names=match_names.to_dict()['new_name']\n",
    "    ls_names=match_names['new_name'].tolist()\n",
    "    df.rename(columns=dict_names, inplace=True)\n",
    "    df=df[ls_names]\n",
    "    return df"
   ]
  },
  {
   "cell_type": "code",
   "execution_count": 126,
   "id": "dc0764ef",
   "metadata": {},
   "outputs": [],
   "source": [
    "\n",
    "tkinter.Tk().withdraw() # prevents an empty tkinter window from appearing\n",
    "\n",
    "transction_folder_path = filedialog.askdirectory()\n",
    "permanant_folder_path = filedialog.askdirectory()"
   ]
  },
  {
   "cell_type": "code",
   "execution_count": 168,
   "id": "73297e09",
   "metadata": {},
   "outputs": [],
   "source": [
    "#reading the check file\n",
    "filepath_check = transction_folder_path+\"\\*GMT*\"\n",
    "txt_check = glob.glob(filepath_check)\n",
    "for textfile in txt_check:\n",
    "    gmt = pd.read_excel(textfile)\n",
    "    \n",
    "\n",
    "\n",
    "#reading the risk country file\n",
    "filepath_check = permanant_folder_path+\"\\*מדינות*\"\n",
    "txt_check = glob.glob(filepath_check)\n",
    "for textfile in txt_check:\n",
    "    rc = pd.read_excel(textfile)\n",
    "\n",
    "#reading the rates file\n",
    "filepath_check = permanant_folder_path+\"\\*שערים*\"\n",
    "txt_check = glob.glob(filepath_check)\n",
    "for textfile in txt_check:\n",
    "    rates = pd.read_excel(textfile ,sheet_name=\"CUR CONV\",usecols=\"F:G\",skiprows=1)\n",
    "    \n",
    "\n",
    "#reading the report number generator file\n",
    "filepath_check = transction_folder_path+\"\\*מחולל*\"\n",
    "txt_check = glob.glob(filepath_check)\n",
    "for textfile in txt_check:\n",
    "    report_num = pd.read_excel(textfile)\n",
    "    \n",
    "#reading the report content file\n",
    "filepath_check = transction_folder_path+\"\\*content*\"\n",
    "txt_check = glob.glob(filepath_check)\n",
    "for textfile in txt_check:\n",
    "    content = pd.read_excel(textfile)  \n",
    "    \n",
    "#reading the report content file\n",
    "filepath_check = transction_folder_path+\"\\*מעקב*\"\n",
    "txt_check = glob.glob(filepath_check)\n",
    "for textfile in txt_check:\n",
    "    reported = pd.read_excel(textfile)    "
   ]
  },
  {
   "cell_type": "code",
   "execution_count": 169,
   "id": "9f58e25f",
   "metadata": {},
   "outputs": [],
   "source": [
    "#changing the columns name to standart\n",
    "gmt = gmt.rename(columns={'מדינת יעד/מדינת מקור':'dest country','שמ המוטב/שם השולח':'clients name','הצד השני של העסקה':'owner name','מטבע':'currency','סכום':'amount','תאריך':'date','מספר עסקה':'deal number','מספר זיהוי של לקוח/ה':'id number'})"
   ]
  },
  {
   "cell_type": "code",
   "execution_count": 170,
   "id": "450b2f67",
   "metadata": {},
   "outputs": [],
   "source": [
    "#naming the currency rates\n",
    "rates.columns=[\"curr\",\"rate\"]\n",
    "\n",
    "# calculating the sum in ils\n",
    "gmt=gmt.merge(rates,left_on=\"currency\",right_on=\"curr\",how=\"left\")\n",
    "gmt['nis sum']=gmt['rate']*gmt['amount']\n",
    "\n",
    "#rounding the amount and nis sum:\n",
    "gmt = gmt.dropna(subset = 'amount')\n",
    "gmt['nis sum'] = gmt['nis sum'].astype(int)\n",
    "gmt['amount'] = gmt['amount'].astype(int)\n",
    "# find risk transactions gmt\n",
    "gmt['dest country']=gmt['dest country'].str.strip()\n",
    "gmt['eng_name']=gmt['dest country'].str.split(',', 1, expand=True)[0]\n",
    "risk_type1_gmt=gmt.merge(rc[['English short name (using title case)','סיכון/ללא דיווח רגיל']],left_on=\"eng_name\",right_on=\"English short name (using title case)\", how = 'left')\n",
    "risk_type1_gmt = risk_type1_gmt[risk_type1_gmt['סיכון/ללא דיווח רגיל'].notna()]\n",
    "risk_type1_gmt = risk_type1_gmt.dropna(subset = 'dest country')\n",
    "gmt['PH']=gmt['clients name'].str.contains('PH-', regex=False)\n",
    "risk_type2_gmt=gmt[gmt['PH']==True]\n",
    "gmt['PH']=gmt['id number'].str.contains('PH-', regex=False)\n",
    "risk_type3_gmt=gmt[gmt['PH']==True]\n",
    "\n",
    "all_risk_gmt=pd.concat([risk_type1_gmt,risk_type2_gmt,risk_type3_gmt]).drop_duplicates(\"deal number\")"
   ]
  },
  {
   "cell_type": "code",
   "execution_count": 171,
   "id": "3116981f",
   "metadata": {},
   "outputs": [],
   "source": [
    "#building three kinds of monitoring data frames\n",
    "monitoring_name = gmt.groupby('clients name').agg({'nis sum':'sum','deal number':'nunique'})\n",
    "monitoring_ow = gmt.groupby('owner name').agg({'nis sum':'sum','clients name':'nunique'})\n",
    "\n",
    "#filtering need to report transctions:\n",
    "monitoring_name_2report = monitoring_name[((monitoring_name['nis sum'] >= 50000) & (monitoring_name['deal number'] > 1)) | ((monitoring_name['nis sum'] >= 47000) & (monitoring_name['nis sum'] < 50000))]\n",
    "\n",
    "#adding the report type:\n",
    "monitoring_name_2report['report type'] = np.where((monitoring_name_2report['nis sum'] >= 50000) , 'p', 'd')\n",
    "\n"
   ]
  },
  {
   "cell_type": "code",
   "execution_count": 172,
   "id": "1346bcf0",
   "metadata": {},
   "outputs": [],
   "source": [
    "#building three kinds of monitoring data frames\n",
    "monitoring_name_risk = all_risk_gmt.groupby('clients name').agg({'nis sum':'sum','deal number':'nunique'})\n",
    "monitoring_ow_risk = all_risk_gmt.groupby('owner name').agg({'nis sum':'sum','clients name':'nunique'})\n",
    "\n",
    "#filtering need to report transctions:\n",
    "monitoring_name_risk_2report = monitoring_name_risk[((monitoring_name_risk['nis sum'] >= 5000) & (monitoring_name_risk['deal number'] > 1)) | ((monitoring_name_risk['nis sum'] >= 4700) & (monitoring_name_risk['nis sum'] < 5000))]\n",
    "\n",
    "#adding the report type:\n",
    "monitoring_name_risk_2report['report type_risk'] = np.where((monitoring_name_risk_2report['nis sum'] >= 5000) , 'pr', 'dr')\n"
   ]
  },
  {
   "cell_type": "code",
   "execution_count": 173,
   "id": "a4d99b5d",
   "metadata": {},
   "outputs": [],
   "source": [
    "#concating the client to report df's\n",
    "all_reports = monitoring_name_2report.append(monitoring_name_risk_2report)\n",
    "all_reports = all_reports.reset_index()"
   ]
  },
  {
   "cell_type": "code",
   "execution_count": 175,
   "id": "f7b3c11c",
   "metadata": {},
   "outputs": [
    {
     "name": "stdout",
     "output_type": "stream",
     "text": [
      "no match between this p or d reported client and shared owner risk clients\n"
     ]
    }
   ],
   "source": [
    "#shared destanation monitoring\n",
    "monitoring_ow_2report = monitoring_ow[(monitoring_ow['nis sum'] >= 50000) & (monitoring_ow['clients name'] > 1)]\n",
    "monitoring_ow_2report = monitoring_ow_2report.rename(columns = {'clients name':'clients count'})\n",
    "\n",
    "#checking if a client is already reported in previous test\n",
    "monitoring_ow_2report_clients = monitoring_ow_2report.merge(gmt[['clients name','owner name']],on = 'owner name' , how = 'left')\n",
    "monitoring_ow_2report_clients = monitoring_ow_2report_clients.merge(all_reports['clients name'] , on = 'clients name', how = 'left', suffixes=['','_pd'])\n",
    "try:\n",
    "    monitoring_ow_2report_clients = monitoring_ow_2report_clients[monitoring_ow_2report_clients['clients name_pd'].isna()]\n",
    "except KeyError:\n",
    "    print('no match between this p or d reported client and shared owner risk clients')\n",
    "try:   \n",
    "    monitoring_ow_2report_clients = monitoring_ow_2report_clients.merge(reported['שם'], left_on = 'clients name', right_on = 'שם', how = 'left')\n",
    "    monitoring_ow_2report_clients = monitoring_ow_2report_clients[monitoring_ow_2report_clients['שם'].isna()]\n",
    "except:\n",
    "    print('no match between last 3 month reported and shared owner risk clients')\n",
    "\n",
    "#appending the shared owner clients to the all reports DF\n",
    "monitoring_ow_2report_clients['report type ow'] = 'm'\n",
    "monitoring_ow_2report_clients = monitoring_ow_2report_clients.drop_duplicates('owner name')\n",
    "all_reports = all_reports.append(monitoring_ow_2report_clients)\n",
    "\n"
   ]
  },
  {
   "cell_type": "code",
   "execution_count": 176,
   "id": "e5136941",
   "metadata": {},
   "outputs": [
    {
     "name": "stdout",
     "output_type": "stream",
     "text": [
      "no match between this p or d reported client and shared owner risk clients\n"
     ]
    }
   ],
   "source": [
    "#shared destanation monitoring\n",
    "monitoring_ow_2report_risk = monitoring_ow_risk[(monitoring_ow_risk['nis sum'] >= 5000) & (monitoring_ow_risk['clients name'] > 1)]\n",
    "monitoring_ow_2report_risk = monitoring_ow_2report_risk.rename(columns = {'clients name':'clients count'})\n",
    "\n",
    "#checking if a client is already reported in previous tests\n",
    "monitoring_ow_2report_risk = monitoring_ow_2report_risk.merge(all_risk_gmt[['clients name','owner name']],on = 'owner name' , how = 'left')\n",
    "monitoring_ow_2report_risk_clients = monitoring_ow_2report_risk.merge(all_reports['clients name'] , on = 'clients name', how = 'left', suffixes=('','_pd'))\n",
    "try:\n",
    "    monitoring_ow_2report_risk_clients = monitoring_ow_2report_risk_clients[monitoring_ow_2report_risk_clients['clients name_pd'].isna()]\n",
    "except KeyError:\n",
    "    print('no match between this p or d reported client and shared owner risk clients')\n",
    "try:\n",
    "    monitoring_ow_2report_risk_clients = monitoring_ow_2report_risk_clients.merge(reported['שם'], left_on = 'clients name', right_on = 'שם', how = 'left')\n",
    "    monitoring_ow_2report_risk_clients = monitoring_ow_2report_risk_clients[monitoring_ow_2report_risk_clients['שם'].isna()]\n",
    "except:\n",
    "    print('no match between last 3 month reported and shared owner risk clients')\n",
    "\n",
    "#appending the risk hared owner clients to the all reports DF\n",
    "monitoring_ow_2report_risk_clients['report type ow risk'] = 'mr'\n",
    "monitoring_ow_2report_risk_clients = monitoring_ow_2report_risk_clients.drop_duplicates('owner name')\n",
    "all_reports = all_reports.append(monitoring_ow_2report_risk_clients)\n",
    "\n"
   ]
  },
  {
   "cell_type": "code",
   "execution_count": 177,
   "id": "00a588da",
   "metadata": {},
   "outputs": [],
   "source": [
    "#joining all the report types into one list\n",
    "all_reports = all_reports.fillna('')\n",
    "all_reports['final type'] = all_reports['report type'] + all_reports['report type_risk'] + all_reports['report type ow'] + all_reports['report type ow risk']"
   ]
  },
  {
   "cell_type": "code",
   "execution_count": 178,
   "id": "0220ae65",
   "metadata": {},
   "outputs": [
    {
     "name": "stdout",
     "output_type": "stream",
     "text": [
      " אין דיווחים בלתי רגילים!\n"
     ]
    }
   ],
   "source": [
    "#summarizing the data frame for mailing\n",
    "all_reports4word = all_reports[['clients name','final type','owner name']]\n",
    "\n",
    "\n",
    "if all_reports4word.empty == True:\n",
    "    print(' אין דיווחים בלתי רגילים!')\n",
    "    exit(1)\n",
    "    \n"
   ]
  },
  {
   "cell_type": "code",
   "execution_count": 179,
   "id": "9239d3fb",
   "metadata": {},
   "outputs": [],
   "source": [
    "#adding the country of dest details\n",
    "all_reports4word = all_reports4word.merge(gmt[['clients name','id number','dest country']], on = 'clients name',how = 'left')\n",
    "all_reports4word = all_reports4word.drop_duplicates('clients name')\n"
   ]
  },
  {
   "cell_type": "code",
   "execution_count": 180,
   "id": "59b6b8e3",
   "metadata": {},
   "outputs": [
    {
     "name": "stdout",
     "output_type": "stream",
     "text": [
      "אין דיווחים בלתי רגילים\n"
     ]
    }
   ],
   "source": [
    "if all_reports4word.empty == False:\n",
    "    all_reports4word['name4report'] = all_reports4word['clients name'].str.split(',', 1, expand=True)[0]\n",
    "    all_reports4word['dest country heb'] = all_reports4word['dest country'].str.split(', ', 1, expand=True)[1]\n",
    "    try:\n",
    "        all_reports4word['id number new'] = all_reports4word['clients name'].str.split(',', 1, expand=True)[1]\n",
    "        all_reports4word['final id number'] = all_reports4word['id number new'].fillna(all_reports4word['id number'])\n",
    "    except KeyError:\n",
    "        all_reports4word['final id number'] = all_reports4word['id number']\n",
    "\n",
    "    all_reports4word['country_code'] = all_reports4word['final id number'].str.split('-', 1, expand=True)[0].str.lstrip()\n",
    "    all_reports4word = all_reports4word.merge(rc[['Alpha-2 code','עברית']], left_on = 'country_code', right_on = 'Alpha-2 code',how = 'left')\n",
    "    all_reports4word = all_reports4word.drop_duplicates('clients name')\n",
    "    try:\n",
    "        all_reports4word['final risk country'] = all_reports4word['dest country heb'].fillna(all_reports4word['עברית'])\n",
    "    except:\n",
    "        all_reports4word['final risk country'] = all_reports4word['dest country heb']\n",
    "\n",
    "    all_reports4word_sum = all_reports4word[['clients name','final type','final id number','name4report','עברית','dest country heb','final risk country']]\n",
    "else :\n",
    "    print('אין דיווחים בלתי רגילים')\n",
    "    all_reports4word_sum = all_reports4word"
   ]
  },
  {
   "cell_type": "code",
   "execution_count": 181,
   "id": "c7d09a1b",
   "metadata": {},
   "outputs": [
    {
     "name": "stdout",
     "output_type": "stream",
     "text": [
      "אין דיווחים בסיכון\n"
     ]
    }
   ],
   "source": [
    "#merging the report content\n",
    "all_reports4word_sum = all_reports4word_sum.merge(content, left_on = 'final type' , right_on = 'type', how = 'left')\n",
    "#all_reports4word['risk_full_content'] ='הכספים נשלחו ל'+all_reports4word['עברית'] + ' ,מדינה המוגדרת בסיכון גבוה.'\n",
    "try:\n",
    "    all_reports4word_sum['risk_full_content'] =np.where((all_reports4word_sum['final type'] == 'mr')|(all_reports4word_sum['final type'] == 'pr')|(all_reports4word_sum['final type'] == 'dr')|(all_reports4word_sum['final type'] == 'mkr')|(all_reports4word_sum['final type'] == 'kpr')|(all_reports4word_sum['final type'] == 'kdr') ,'הכספים נשלחו ל'+all_reports4word_sum['final risk country'] + ' ,מדינה המוגדרת בסיכון גבוה.','')\n",
    "except KeyError:\n",
    "    print('אין דיווחים בסיכון')"
   ]
  },
  {
   "cell_type": "code",
   "execution_count": 182,
   "id": "d5a8101b",
   "metadata": {},
   "outputs": [],
   "source": [
    "#importing the report number needed\n",
    "report_id = (report_num.iloc[1,5] + 1).astype(int)\n",
    "all_reports4word_sum['report_id'] = report_id + range(len(all_reports4word_sum.index))\n",
    "all_reports4word_sum['report_name'] = report_num.iloc[3,1].rsplit('-',1)[0]"
   ]
  },
  {
   "cell_type": "code",
   "execution_count": 184,
   "id": "bed4e4f1",
   "metadata": {},
   "outputs": [],
   "source": [
    "all_reports4word_sum = all_reports4word_sum.fillna('')\n",
    "all_reports4word_sum = all_reports4word_sum.reset_index()\n",
    "all_reports4word_sum.to_excel(\"monitoring.xlsx\")"
   ]
  },
  {
   "cell_type": "code",
   "execution_count": 185,
   "id": "a0282160",
   "metadata": {},
   "outputs": [
    {
     "name": "stdout",
     "output_type": "stream",
     "text": [
      "{'final_id_number', 'report_id', 'Content', 'risk_full_content', 'עברית', 'Title', 'name4report'}\n"
     ]
    }
   ],
   "source": [
    "filepath_check = transction_folder_path+\"\\*טמפלייט*\"\n",
    "txt_check = glob.glob(filepath_check)\n",
    "for textfile in txt_check:\n",
    "    template = textfile\n",
    "document = MailMerge(template)\n",
    "print(document.get_merge_fields())"
   ]
  },
  {
   "cell_type": "code",
   "execution_count": 186,
   "id": "48d233f4",
   "metadata": {},
   "outputs": [],
   "source": [
    "for i in all_reports4word_sum.index:\n",
    "     #template1 = 'test1.docx'\n",
    "    document = MailMerge(template)\n",
    "    document.merge(\n",
    "        name4report = str(all_reports4word_sum['name4report'][i]),\n",
    "        Title = str(all_reports4word_sum['Title'][i]),\n",
    "        report_id = str(all_reports4word_sum['report_id'][i]),\n",
    "        Content = str(all_reports4word_sum['Content'][i]),\n",
    "        risk_full_content = str(all_reports4word_sum['risk_full_content'][i]),\n",
    "        עברית = str(all_reports4word_sum['עברית'][i]),\n",
    "        final_id_number = str(all_reports4word_sum['final id number'][i])\n",
    "        )\n",
    "    \n",
    "\n",
    "    output =  str(all_reports4word_sum['report_name'][i]) + \"-\" + str(all_reports4word_sum['report_id'][i]) + '.docx'\n",
    "    document.write(output)"
   ]
  },
  {
   "cell_type": "code",
   "execution_count": 187,
   "id": "c9cd11e2",
   "metadata": {},
   "outputs": [],
   "source": [
    "#filtering outbound reports\n",
    "sent_report = all_reports4word_sum[(all_reports4word_sum['final type'] == 'p') |(all_reports4word_sum['final type'] == 'd') |(all_reports4word_sum['final type'] == 'dr') |(all_reports4word_sum['final type'] == 'pr') | (all_reports4word_sum['final type'] == 'ppr')]\n",
    "\n",
    "#creating a data frames with only need to report transctions\n",
    "sent_report_tr = gmt[gmt['clients name'].isin(sent_report['clients name'])]\n",
    "\n",
    "#leaving only the imporatant columns\n",
    "sent_report_tr = sent_report_tr[['deal number','סוג עסקה','date','dest country','clients name','owner name','id number','amount','currency','nis sum']]\n",
    "\n",
    "#creating an excel shhet with the ountbound reports\n",
    "i=0\n",
    "for_word_table=[]\n",
    "xlsx=pd.ExcelWriter('monitoring.xlsx', engine='openpyxl', mode='a',if_sheet_exists='overlay')\n",
    "#round the sum in ils\n",
    "sent_report_tr[\"nis sum\"]=sent_report_tr[\"nis sum\"].round()\n",
    "\n",
    "#creating a unique list of the sender names\n",
    "ls_customer=sent_report_tr[\"clients name\"].unique().tolist()\n",
    "\n",
    "#loop each sender transctions in a unique table\n",
    "for name in ls_customer:\n",
    "    df=sent_report_tr[sent_report_tr[\"clients name\"]==name]  \n",
    "    data = [[\"סהכ\",df[\"amount\"].sum(),df[\"nis sum\"].sum()]]\n",
    "    last_row = pd.DataFrame(data, columns = [\"clients name\",'amount', \"nis sum\"])\n",
    "    orderd=pd.concat([df,last_row])\n",
    "    orderd.to_excel(xlsx, sheet_name='Reports',startrow=i,index=False)\n",
    "    for_word_table.append(orderd)\n",
    "    i=i+len(orderd)+2\n",
    "            \n",
    "    xlsx.save()"
   ]
  },
  {
   "cell_type": "code",
   "execution_count": 188,
   "id": "d7365984",
   "metadata": {},
   "outputs": [],
   "source": [
    "#indexing the outbound_report data frame\n",
    "info2r = sent_report.set_index('clients name')\n",
    "info2r_nona = info2r[info2r.index.notnull()]\n",
    "\n",
    "for title in ls_customer:\n",
    "    \n",
    "    data = sent_report_tr[sent_report_tr['clients name'] == title].round()\n",
    "    table = [[\"סהכ\",data[\"nis sum\"].sum().round(),data['amount'].sum()]]\n",
    "    last_row = pd.DataFrame(table, columns = [\"clients name\", \"nis sum\",'amount'])\n",
    "    orderd=pd.concat([data,last_row])\n",
    "    orderd=orderd.fillna(' ')\n",
    "    \n",
    "    orderd=change_names_and_order(transction_folder_path + r\"\\change_names.xlsx\",orderd)\n",
    "    \n",
    "    orderd['תאריך פעולה'] = orderd['תאריך פעולה'].astype(str)\n",
    "    \n",
    "    doc = docx.Document(str(info2r_nona['report_name'].loc[title]) + \"-\" + str(info2r_nona['report_id'].loc[title]) + \".docx\")  \n",
    "\n",
    "    doc.add_page_break()\n",
    "    t = doc.add_table(orderd.shape[0]+1, orderd.shape[1])\n",
    "                        \n",
    "              \n",
    "\n",
    "    for j in range(orderd.shape[-1]):\n",
    "        t.cell(0,j).text = orderd.columns[j]\n",
    "\n",
    "        # add the rest of the data frame\n",
    "    for i in range(orderd.shape[0]):\n",
    "        for j in range(orderd.shape[-1]):\n",
    "            t.cell(i+1,j).text = str(orderd.values[i,j])\n",
    "\n",
    "    t.style = 'Grid Table 4 Accent 5'\n",
    "    \n",
    "    doc.save(str(info2r_nona['report_name'].loc[title]) + \"-\" + str(info2r_nona['report_id'].loc[title]) + \".docx\")\n"
   ]
  },
  {
   "cell_type": "code",
   "execution_count": 189,
   "id": "944f4504",
   "metadata": {},
   "outputs": [
    {
     "name": "stdout",
     "output_type": "stream",
     "text": [
      "אין דיווחי מושך משותף\n"
     ]
    }
   ],
   "source": [
    "#filtering only shared owner reports\n",
    "sent_report_ow = all_reports4word_sum[(all_reports4word_sum['final type'] == 'm') |(all_reports4word_sum['final type'] == 'mr')]\n",
    "sent_report_ow = sent_report_ow.merge(gmt[['clients name','owner name']], on = 'clients name', how = 'left')\n",
    "if sent_report_ow.empty == False:\n",
    "    #concatacating the two kinds of outbound shared owner transction dataframes\n",
    "    sent_report_tr_ow = gmt[gmt['owner name'].isin(sent_report_ow['owner name'])]\n",
    "\n",
    "\n",
    "    #leaving only the imporatant columns\n",
    "    sent_report_tr_ow = sent_report_tr_ow[['deal number','סוג עסקה','date','dest country','clients name','owner name','id number','amount','currency','nis sum']]\n",
    "\n",
    "    #creating a new list\n",
    "    j=0\n",
    "    for_word_table_ow=[]\n",
    "\n",
    "    #wrting an excel file containing the report transctions for each customer\n",
    "    xlsx=pd.ExcelWriter('monitoring.xlsx', engine='openpyxl', mode='a',if_sheet_exists='overlay')\n",
    "\n",
    "    #round the sum in ils\n",
    "    sent_report_tr_ow[\"nis sum\"]=sent_report_tr_ow[\"nis sum\"].round()\n",
    "\n",
    "    #creating a unique list of the sender names\n",
    "    ls_customer_ow=sent_report_tr_ow[\"owner name\"].unique().tolist()\n",
    "\n",
    "    #loop each sender transctions in a unique table\n",
    "    for name in ls_customer_ow:\n",
    "        df=sent_report_tr_ow[sent_report_tr_ow[\"owner name\"]==name]  \n",
    "        data = [[\"סהכ\",df[\"nis sum\"].sum(),df[\"amount\"].sum()]]\n",
    "        last_row = pd.DataFrame(data, columns = [\"clients name\", \"nis sum\",'amount'])\n",
    "        orderd=pd.concat([df,last_row])\n",
    "        orderd.to_excel(xlsx, sheet_name='Reports_ow',startrow=j,index=False)\n",
    "        for_word_table_ow.append(orderd)\n",
    "        j=j+len(orderd)+2\n",
    "            \n",
    "        xlsx.save()\n",
    "else:\n",
    "    print('אין דיווחי מושך משותף')"
   ]
  },
  {
   "cell_type": "code",
   "execution_count": 190,
   "id": "1a72b13e",
   "metadata": {},
   "outputs": [
    {
     "name": "stdout",
     "output_type": "stream",
     "text": [
      "אין דיווחי מושך משותף\n"
     ]
    }
   ],
   "source": [
    "#creating a list containing the client name and owner name\n",
    "if sent_report_ow.empty == False:\n",
    "    info2r_ow = sent_report_ow[['report_name','report_id','clients name']].merge(sent_report_tr_ow[['clients name','owner name']], on = 'clients name', how = 'left')\n",
    "    info2r_ow = info2r_ow.drop_duplicates('owner name')\n",
    "    info2r_ow = info2r_ow.set_index('owner name')\n",
    "\n",
    "\n",
    "    for title in ls_customer_ow:    \n",
    "        data = sent_report_tr_ow[sent_report_tr_ow['owner name'] == title]\n",
    "        table = [[\"סהכ\",data[\"nis sum\"].sum().round(),data['amount'].sum()]]\n",
    "        last_row = pd.DataFrame(table, columns = [\"owner name\", \"nis sum\",'amount'])\n",
    "        orderd=pd.concat([data,last_row])\n",
    "        orderd=orderd.fillna(\" \")\n",
    "        orderd=change_names_and_order(transction_folder_path + r\"\\change_names.xlsx\",orderd)\n",
    "    \n",
    "        doc = docx.Document(str(info2r_ow['report_name'].loc[title]) + \"-\" + str(info2r_ow['report_id'].loc[title]) + \".docx\")  \n",
    "\n",
    "        doc.add_page_break()\n",
    "        t = doc.add_table(orderd.shape[0]+1, orderd.shape[1])                   \n",
    "              \n",
    "\n",
    "        for j in range(orderd.shape[-1]):\n",
    "            t.cell(0,j).text = orderd.columns[j]\n",
    "\n",
    "            # add the rest of the data frame\n",
    "        for i in range(orderd.shape[0]):\n",
    "            for j in range(orderd.shape[-1]):\n",
    "                t.cell(i+1,j).text = str(orderd.values[i,j])\n",
    "\n",
    "        t.style = 'Grid Table 4 Accent 5'\n",
    "   \n",
    "        doc.save(str(info2r_ow['report_name'].loc[title]) + \"-\" + str(info2r_ow['report_id'].loc[title]) + \".docx\")\n",
    "else:\n",
    "    print('אין דיווחי מושך משותף')"
   ]
  },
  {
   "cell_type": "code",
   "execution_count": 191,
   "id": "01a5caa1",
   "metadata": {},
   "outputs": [],
   "source": [
    "#creating an excel filies for monitoring the results\n",
    "monitoring_name_excel = monitoring_name.merge(all_reports4word[['clients name','final type']], on = 'clients name', how = 'left')\n",
    "monitoring_name_excel = monitoring_name_excel.merge(reported['שם'],left_on = 'clients name', right_on = 'שם', how = 'left')\n",
    "monitoring_name_excel['status'] = ''\n",
    "monitoring_name_excel['שם'] = monitoring_name_excel['שם'].astype(str)\n",
    "for i in monitoring_name_excel.index:\n",
    "    if monitoring_name_excel['שם'][i] == monitoring_name_excel['clients name'][i]:\n",
    "        monitoring_name_excel['status'][i] = 'דווח בשלושת החודשים האחרונים'\n",
    "        \n",
    "    elif monitoring_name_excel['nis sum'][i] <=47000 :\n",
    "        monitoring_name_excel['status'][i] = 'סך עסקאות נמוך מרף הדיווח'\n",
    "\n",
    "    elif monitoring_name_excel['deal number'][i] <= 1 :\n",
    "        monitoring_name_excel['status'][i] = 'הועבר דיווח רגיל'\n",
    "    else :\n",
    "        monitoring_name_excel['status'][i] = monitoring_name_excel['final type'][i]\n",
    "        \n",
    "monitoring_name_excel = monitoring_name_excel.sort_values('nis sum', ascending = False)\n",
    "monitoring_name_excel['final type'] = monitoring_name_excel['final type'].fillna(monitoring_name_excel['status'])\n",
    "monitoring_name_excel = monitoring_name_excel.rename(columns= {'final type':'final status'})\n",
    "monitoring_name_excel['final status'] = monitoring_name_excel['final status'].replace({'pr':'פיצול בסיכון','p':'פיצול','dr':'דירדוס בסיכון','d':'דירדוס','m':'מושך משותף','mr':'מושך משותף בסיכון'})\n",
    "\n",
    "#xlsx = pd.ExcelWriter('monitoring.xlsx', engine='openpyxl', mode='a', if_sheet_exists='overlay')\n",
    "xlsx=pd.ExcelWriter('monitoring.xlsx', engine='openpyxl', mode='a',if_sheet_exists='overlay')\n",
    "monitoring_name_excel[['clients name','nis sum','deal number','final status']].to_excel(xlsx, sheet_name='ניטור',index=False)\n",
    "xlsx.save()\n"
   ]
  },
  {
   "cell_type": "code",
   "execution_count": 67,
   "id": "6446f064",
   "metadata": {},
   "outputs": [],
   "source": []
  },
  {
   "cell_type": "code",
   "execution_count": null,
   "id": "0c3b8885",
   "metadata": {},
   "outputs": [],
   "source": []
  }
 ],
 "metadata": {
  "kernelspec": {
   "display_name": "Python 3 (ipykernel)",
   "language": "python",
   "name": "python3"
  },
  "language_info": {
   "codemirror_mode": {
    "name": "ipython",
    "version": 3
   },
   "file_extension": ".py",
   "mimetype": "text/x-python",
   "name": "python",
   "nbconvert_exporter": "python",
   "pygments_lexer": "ipython3",
   "version": "3.9.7"
  }
 },
 "nbformat": 4,
 "nbformat_minor": 5
}
