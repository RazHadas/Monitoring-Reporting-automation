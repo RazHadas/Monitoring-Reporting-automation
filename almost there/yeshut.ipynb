{
 "cells": [
  {
   "cell_type": "code",
   "execution_count": 53,
   "id": "42646a71",
   "metadata": {},
   "outputs": [],
   "source": [
    "#importing libararies\n",
    "import pandas as pd\n",
    "import numpy as np\n",
    "import os\n",
    "from __future__ import print_function\n",
    "from mailmerge import MailMerge\n",
    "from datetime import date\n",
    "import docx\n",
    "import import_ipynb\n",
    "import glob\n",
    "import tkinter\n",
    "from tkinter import filedialog\n",
    "import warnings\n",
    "warnings.filterwarnings(\"ignore\")\n",
    "\n",
    "\n",
    "def format_sheet(file_path:str,template_path:str,sheet_num_template=0,run=0):\n",
    "    \"\"\"\n",
    "    file_path: the file you want to design, must bx xlsx\n",
    "    template_path: the teplate of the design, must bx xlsx\n",
    "        \"\"\"\n",
    "    # format sheet\n",
    "    xlsx=pd.ExcelWriter(file_path, engine='openpyxl', mode='a')\n",
    "    for i in range(len(xlsx.book.worksheets)):\n",
    "        new_sheet=xlsx.book.worksheets[run]\n",
    "        template=pd.ExcelWriter(template_path,engine='openpyxl', mode='a')\n",
    "        default_sheet=template.book.worksheets[sheet_num_template]\n",
    "        from copy import copy\n",
    "        new_sheet.sheet_view.rightToLeft=True\n",
    "        for row in default_sheet.rows:\n",
    "            for cell in row:\n",
    "                new_cell=new_sheet.cell(row=cell.row, column=cell.col_idx)\n",
    "                if cell.has_style and new_cell.value != None:\n",
    "                    new_cell.font=copy(cell.font)\n",
    "                    new_cell.border=copy(cell.border)\n",
    "                    new_cell.fill=copy(cell.fill)\n",
    "                    new_cell.number_format=copy(cell.number_format)\n",
    "                    new_cell.protection=copy(cell.protection)\n",
    "                    new_cell.alignment=copy(cell.alignment)\n",
    "        from openpyxl.utils import get_column_letter\n",
    "        for i in range(default_sheet.max_column):\n",
    "            new_sheet.column_dimensions[get_column_letter(i + 1)].width=default_sheet.column_dimensions[\n",
    "                get_column_letter(i + 1)].width\n",
    "    \n",
    "    xlsx.save()\n",
    "def change_names_and_order(file_path:str,df:pd.DataFrame):\n",
    "    \"\"\"\n",
    "    name of columns in names must be \"old_name\", \"new_name\"\n",
    "        \"\"\"\n",
    "    match_names=pd.read_excel(file_path)\n",
    "    match_names.index=match_names.old_name\n",
    "    dict_names=match_names.to_dict()['new_name']\n",
    "    ls_names=match_names['new_name'].tolist()\n",
    "    df.rename(columns=dict_names, inplace=True)\n",
    "    df=df[ls_names]\n",
    "    return df"
   ]
  },
  {
   "cell_type": "code",
   "execution_count": 54,
   "id": "3b1b199b",
   "metadata": {},
   "outputs": [],
   "source": [
    "\n",
    "tkinter.Tk().withdraw() # prevents an empty tkinter window from appearing\n",
    "\n",
    "transction_folder_path = filedialog.askdirectory()\n",
    "permanant_folder_path = filedialog.askdirectory()"
   ]
  },
  {
   "cell_type": "code",
   "execution_count": 144,
   "id": "edf3ace6",
   "metadata": {},
   "outputs": [],
   "source": [
    "\n",
    "#reading the check file\n",
    "filepath_check = transction_folder_path+\"\\*שקים*\"\n",
    "txt_check = glob.glob(filepath_check)\n",
    "for textfile in txt_check:\n",
    "    check = pd.read_excel(textfile)\n",
    "\n",
    "    #reading the client file\n",
    "filepath_client = transction_folder_path+\"\\*לקוחות*\"\n",
    "txt_client = glob.glob(filepath_client)\n",
    "for textfile in txt_client:\n",
    "    client = pd.read_excel(textfile) \n",
    "\n",
    "    #reading the client file\n",
    "filepath_report_num = transction_folder_path+\"\\*מחולל*\"\n",
    "txt_report_num = glob.glob(filepath_report_num)\n",
    "for textfile in txt_report_num:\n",
    "    report_num = pd.read_excel(textfile) \n",
    "\n",
    "filepath_reported = transction_folder_path+\"\\*מעקב*\"\n",
    "txt_reported = glob.glob(filepath_reported)\n",
    "for textfile in txt_reported:\n",
    "    reported = pd.read_excel(textfile)     \n",
    "\n",
    "fsp_list = pd.read_excel(permanant_folder_path+'\\נותני שירותים פיננסים.xlsx')\n",
    "rc = pd.read_excel(permanant_folder_path+'\\מדינות.xlsx')\n",
    "content = pd.read_excel(transction_folder_path+'\\content.xlsx')\n"
   ]
  },
  {
   "cell_type": "code",
   "execution_count": 232,
   "id": "4a67c4e4",
   "metadata": {
    "scrolled": true
   },
   "outputs": [
    {
     "name": "stdout",
     "output_type": "stream",
     "text": [
      "id number could not be as type int\n"
     ]
    }
   ],
   "source": [
    "#drop na\n",
    "check = check.dropna(subset = 'nis sum')\n",
    "#check nis sum is int\n",
    "check['nis sum'] = check['nis sum'].astype(int)\n",
    "\n",
    "#stripping client names from client and templeata df\n",
    "client['clients name'] = client['clients name'].str.rstrip()\n",
    "client['clients name'] = client['clients name'].str.lstrip()\n",
    "check['clients name'] = check['clients name'].str.rstrip()\n",
    "check['clients name'] = check['clients name'].str.lstrip()\n",
    "\n",
    "#sort the data in check by deal date and by name\n",
    "check = check.dropna(subset = 'deal number')\n",
    "check[\"deal number\"] = check[\"deal number\"].astype(int)\n",
    "\n",
    "check = check.sort_values(['clients name','date'])\n",
    "\n",
    "# adding the sum for every deal number and marking every deal under 50k as True\n",
    "deal_sum = check.groupby('deal number').agg({'nis sum':'sum'})\n",
    "check = check.merge(deal_sum,on = 'deal number' , how = 'left', suffixes = ('','_deal'))\n",
    "\n",
    "#Adding a column stating if the transction is under or over 50K(False = over 50K)\n",
    "check['U50'] = np.where(check['nis sum_deal'] >= 50000,False,True)\n",
    "\n",
    "#Adding a column stating if the transction is under or over 5K(False = over 5K)\n",
    "check['U5'] = np.where(check['nis sum_deal'] >= 5000,False,True)\n",
    "\n",
    "#creating a column with the dates diffrence by day and creating a new column with the value as a number\n",
    "check['date'] = pd.to_datetime(check['date']) \n",
    "check['date_diff'] = check['date'].diff()\n",
    "check['date_diff_fl'] = check['date_diff'] / pd.to_timedelta(1, unit='D')\n",
    "\n",
    "#testing for matching clients in match column\n",
    "check['match'] = check['clients name'].eq(check['clients name'].shift())\n",
    "\n",
    "#adding a conditional colum based on date diff values\n",
    "check['diff_check'] = np.where((check['date_diff_fl'] > 3) | (check['date_diff_fl'] < 0) | (check['match'] == False) , 1 , 0)\n",
    "\n",
    "#cummaltive sum as a way to count if the values in the diff check\n",
    "check['cumsum'] = np.cumsum(check['diff_check'])\n",
    "\n",
    "#striping blank spaces from citizenship  country\n",
    "client['citizenship'] = client['citizenship'].str.rstrip()\n",
    "client['citizenship'] = client['citizenship'].str.lstrip()\n",
    "\n",
    "try:\n",
    "    #id number as type int\n",
    "    client['id number'] = np.where(client['id number'].isna(), 1234 , client['id number'])\n",
    "    #locating plastenian autherity risk clients\n",
    "    client['citizenship_ps'] = np.where((client['id number'] > 800000000) & (client['id number'] < 999999999), 'הרשות הפלשטינית' , client['citizenship'] )\n",
    "    client['citizenship'] = client['citizenship_ps']\n",
    "except TypeError:\n",
    "    print('id number could not be as type int')"
   ]
  },
  {
   "cell_type": "code",
   "execution_count": 233,
   "id": "cfc25ce5",
   "metadata": {},
   "outputs": [],
   "source": [
    "#building the monitoring df with sum per client, deal distinct count and under 50k deal count\n",
    "mont = check.groupby(['clients name','cumsum']).agg({'nis sum':'sum','deal number':'nunique','U50':'sum','U5':'sum'})\n",
    "mont = mont.reset_index()\n",
    "\n",
    "#sorting the values by sum\n",
    "mont = mont.sort_values('nis sum',ascending = False)\n",
    "mont['U50'] = mont['U50'].astype(int)\n",
    "mont['U5'] = mont['U5'].astype(int)\n",
    "\n",
    "#preform a reported in the last two month test\n",
    "mont = mont.merge(reported['שם'], left_on = 'clients name' , right_on = 'שם', how = 'left')\n",
    "\n",
    "#adding a column named status based on unique count of deal number and at least on tr under 50k and not reported in the past 2m\n",
    "mont['status'] = np.where((mont['deal number']==1) | (mont['U50'] == 0) | (mont['שם'].notna()), 'Regular Report', 'Check')\n",
    "mont = mont.drop_duplicates('cumsum')\n",
    "\n",
    "\n",
    "\n",
    "#preform a financial service providers test - results stored in a column named fsp_check\n",
    "#adding the id number to the monitoring sheet\n",
    "mont = mont.merge(client[['id number','clients name']], on = 'clients name', how = 'left')\n",
    "\n",
    "\n",
    "#adding a column מספר מזהה to the monitoring sheet values indicates fsp(finanacial service provider)\n",
    "try:\n",
    "    mont = mont.merge(fsp_list['מספר מזהה'], left_on = 'id number', right_on = 'מספר מזהה' , how = 'left')\n",
    "except ValueError:\n",
    "    mont = mont.merge(fsp_list['מספר מזהה'].astype(str), left_on = 'id number', right_on = 'מספר מזהה' , how = 'left')\n",
    "mont['fsp_check'] = np.where(mont['מספר מזהה'].isna(),\"check\" , \"financial service provider\")\n",
    "\n",
    "mont = mont.drop_duplicates('cumsum')\n"
   ]
  },
  {
   "cell_type": "code",
   "execution_count": 234,
   "id": "1e86ecef",
   "metadata": {},
   "outputs": [],
   "source": [
    "#preform a risk country test\n",
    "#merging client detail with monitoring list\n",
    "mont_client = mont.merge(client,on = 'clients name',how = 'left')\n",
    "\n",
    "# a summarized data frame of clients name and country\n",
    "mont_client_country = mont_client[['clients name','citizenship']]\n",
    "\n",
    "#merging the list of risk country\n",
    "mont_client_country_risk = mont_client_country.merge(rc,left_on = 'citizenship' , right_on = 'עברית' , how = 'left')\n",
    "\n",
    "#merging the risk status for each client to the monitoring df and droping the cumsum duplicates\n",
    "mont = mont.merge(mont_client_country_risk[['clients name','סיכון/ללא דיווח רגיל']],on = 'clients name', how = 'left')\n",
    "mont = mont.drop_duplicates('cumsum')"
   ]
  },
  {
   "cell_type": "code",
   "execution_count": 235,
   "id": "71228b4c",
   "metadata": {},
   "outputs": [],
   "source": [
    "#reported test\n",
    "mont['reported'] = np.where(mont['שם'].notna(),'reported', 'check')\n",
    "\n",
    "#marking dirdos transction as d in a new column named dirdos\n",
    "mont['dirdos'] = np.where((mont['nis sum']>= 47000) & (mont['nis sum']<50000) & (mont['שם'].isna()) & (mont['fsp_check'] == 'check') & (mont['U50'] > 0) , \"d\",'not d')\n",
    "mont['dirdos_risk'] = np.where((mont['nis sum']>= 4700) & (mont['nis sum']<5000) & (mont['שם'].isna()) & (mont['fsp_check'] == 'check') & (mont['U5'] > 0) , \"dr\",'not dr')\n"
   ]
  },
  {
   "cell_type": "code",
   "execution_count": 236,
   "id": "b76f571a",
   "metadata": {},
   "outputs": [],
   "source": [
    "#montoring test export\n",
    "\n",
    "mont_export = mont\n",
    "mont_export['deal number count status'] = np.where(mont_export['deal number'] == 1 , 'הועבר דיווח רגיל','')\n",
    "mont_export ['U50 status'] = np.where(mont_export['U50'] == 0 , 'הועבר דיווח רגיל','')\n",
    "mont_export ['reported status'] = np.where(mont_export['reported'] == 'reported' , 'דווח בשלושת החודשים האחרונים','')\n",
    "mont_export ['fsp_status'] = np.where(mont_export['fsp_check'] == 'financial service provider' , 'נש\"מ','')\n",
    "mont_export['nis sum status'] = np.where(mont_export['nis sum'] <= 50000 , 'סך עסקאות נמוך מרך הדיווח' , '')\n",
    "        \n",
    "mont_export = mont_export[['nis sum status','fsp_status','reported status','U50 status','deal number count status','clients name','nis sum','cumsum']]\n",
    "\n",
    "\n",
    "        \n",
    "\n"
   ]
  },
  {
   "cell_type": "code",
   "execution_count": 153,
   "id": "5a2a95b8",
   "metadata": {},
   "outputs": [],
   "source": [
    "#creating a new data frame contianing only clients that need to be reported\n",
    "mont2r = mont[((mont['status'] == 'Check')|(mont['dirdos']==\"d\")) & (mont['fsp_check'] == 'check') & (mont['nis sum'] >= 47000)]\n",
    "mont2r = mont2r.drop_duplicates('cumsum')\n",
    "\n",
    "#adding the type of the report p-pitzul d-dirdos\n",
    "mont2r['type'] = np.where(mont2r['nis sum'] >= 50000 , \"p\" , \"d\")\n",
    "\n",
    "# figure out the problem of a client with multiple types of reports\n",
    "type_count = mont2r[['clients name','type']].groupby('clients name').nunique()\n",
    "\n",
    "#adding situations in which there are two types of reports for a client\n",
    "mont2r = mont2r.merge(type_count,on = 'clients name', how = 'left',suffixes = ('','_count'))\n",
    "mont2r['final type'] = np.where(mont2r['type_count'] > 1 , \"pd\" , mont2r['type'] )\n",
    "\n",
    "#creating a new data frame with duplicate cumsum for report details df= mont2report_w_cumsum\n",
    "mont2report_w_cumsum = mont2r\n",
    "mont2report = mont2r.drop_duplicates('clients name')\n"
   ]
  },
  {
   "cell_type": "code",
   "execution_count": 154,
   "id": "b47906fa",
   "metadata": {},
   "outputs": [],
   "source": [
    "#creating a new data frame contianing only clients that need to be reported for risk clients\n",
    "mont2rr = mont[((mont['status'] == 'Check')|(mont['dirdos_risk']==\"dr\")) & (mont['U5'] != 0) & (mont['fsp_check'] == 'check') & (mont['nis sum'] >= 4700) & (mont['סיכון/ללא דיווח רגיל'].notna())]\n",
    "mont2rr = mont2rr.drop_duplicates('cumsum')\n",
    "\n",
    "#adding the type of the report pr-pitzul dr-dirdos (risk)\n",
    "mont2rr['final type'] =  np.where((mont2rr['nis sum'] >= 5000), \"pr\" , \"dr\")"
   ]
  },
  {
   "cell_type": "code",
   "execution_count": 155,
   "id": "f60f0416",
   "metadata": {},
   "outputs": [],
   "source": [
    "#adding the risk transctions report to the df with cumsum\n",
    "mont2report_w_cumsum = mont2report_w_cumsum.append(mont2rr)"
   ]
  },
  {
   "cell_type": "code",
   "execution_count": 156,
   "id": "928195de",
   "metadata": {},
   "outputs": [],
   "source": [
    "#sort the data in check by deal date and by owner name\n",
    "check[\"deal number\"] = check[\"deal number\"].astype(int)\n",
    "check_ow = check.sort_values(['owner name','date'])\n",
    "\n",
    " \n",
    "\n",
    "#creating a column with a test for matching owner in the past transction\n",
    "check_ow['match_ow'] = check_ow['owner name'].eq(check_ow['owner name'].shift())\n",
    "\n",
    "#delete the fsp client from check_ow df\n",
    "check_ow = check_ow.merge(client[['clients name','id number']], on = 'clients name' , how = 'left')\n",
    "\n",
    "\n",
    "#deleting FSP from check ow:\n",
    "try:\n",
    "    check_ow = check_ow.merge(fsp_list['מספר מזהה'], left_on = 'id number', right_on = 'מספר מזהה', how = 'left')\n",
    "except ValueError:\n",
    "    check_ow = check_ow.merge(fsp_list['מספר מזהה'].astype(str), left_on = 'id number', right_on = 'מספר מזהה', how = 'left')\n",
    "check_ow = check_ow[check_ow['מספר מזהה'].isna()]\n",
    "\n",
    "#creating a column with the dates diffrence by day and creating a new column with the value as a number\n",
    "check_ow['date_diff'] = check_ow['date'].diff()\n",
    "check_ow['date_diff_fl'] = check_ow['date_diff'] / pd.to_timedelta(1, unit='D')\n",
    "\n",
    "#adding a conditional colum based on date diff values\n",
    "check_ow['diff_check'] = np.where((check_ow['date_diff_fl'] > 3) | (check_ow['date_diff_fl'] < 0) | (check_ow['match_ow'] == False) , 1 , 0)\n",
    "\n",
    "#cummaltive sum as a way to count if the values in the diff check\n",
    "check_ow['cumsum'] = np.cumsum(check_ow['diff_check'])\n",
    "\n"
   ]
  },
  {
   "cell_type": "code",
   "execution_count": 157,
   "id": "52812f88",
   "metadata": {},
   "outputs": [],
   "source": [
    "#building the monitoring df with sum per client and deal distinct count\n",
    "mont_ow = check_ow.groupby(['owner name','cumsum']).agg({'nis sum':'sum','deal number':'nunique','clients name':'nunique','U50':'sum'})\n",
    "\n",
    "#sorting the values by sum\n",
    "mont_ow = mont_ow.sort_values('nis sum',ascending = False)\n",
    "\n",
    "#adding a column named status based on unique count of deal number\n",
    "mont_ow['status'] = np.where((mont_ow['deal number']==1) | (mont_ow['clients name'] ==1) | (mont_ow['nis sum'] <= 50000) | (mont_ow['U50'] == 0), 'Regular Report', 'Check')\n",
    "mont_ow = mont_ow.reset_index()\n",
    "\n",
    "#mont_ow for export\n",
    "mont_ow_export = mont_ow\n",
    "mont_ow_export['deal number count status'] = np.where(mont_ow_export['deal number'] == 1 , 'הועבר דיווח רגיל' , '')\n",
    "mont_ow_export['clients name count status'] = np.where(mont_ow_export['clients name'] == 1 , 'לקוח אחד' , '')\n",
    "mont_ow_export['50U status'] =  np.where(mont_ow_export['U50'] == 0 , 'אין עסקאות מתחת ל 50 אלף' , '')\n",
    "mont_ow_export['nis sum status'] = np.where(mont_ow_export['nis sum'] <= 50000 , 'סך עסקאות נמוך מרך הדיווח' , '')\n",
    "mont_ow_export = mont_ow_export[['deal number count status','clients name count status','50U status','nis sum status','owner name']]\n",
    "\n",
    "#leaving only suspicious clients\n",
    "mont_ow = mont_ow[mont_ow['status'] == 'Check']\n"
   ]
  },
  {
   "cell_type": "code",
   "execution_count": 158,
   "id": "56da77f8",
   "metadata": {},
   "outputs": [],
   "source": [
    "#creating a list of the shared owner report clients name\n",
    "mont_ow_merge = mont_ow.merge(check_ow[['clients name','cumsum']], on = 'cumsum', how = 'left' )\n",
    "\n",
    "#subtracting past 3 month reported clients\n",
    "mont_ow_clients = mont_ow_merge.merge (reported['שם'] , how = 'left' , left_on = 'clients name_y' , right_on = 'שם')\n",
    "mont_ow_clients = mont_ow_clients[mont_ow_clients['שם'].isna()]\n",
    "mont_ow_clients = mont_ow_clients.rename(columns = {'clients name_y':'clients name'})\n",
    "mont_ow_clients_w_cumsum = mont_ow_clients\n",
    "mont_ow_clients = mont_ow_clients.drop_duplicates('clients name') \n",
    "mont_ow_clients = mont_ow_clients.drop_duplicates('cumsum')  \n",
    "mont_ow_clients = mont_ow_clients.reset_index()\n",
    "mont_ow_clients['final type'] = \"m\""
   ]
  },
  {
   "cell_type": "code",
   "execution_count": 159,
   "id": "716f94c5",
   "metadata": {},
   "outputs": [],
   "source": [
    "#building the monitoring df with sum per client and deal distinct count\n",
    "mont_ow_risk = check_ow.groupby(['owner name','cumsum']).agg({'nis sum':'sum','deal number':'nunique','clients name':'nunique','U5':'sum'})\n",
    "\n",
    "#sorting the values by sum\n",
    "mont_ow_risk = mont_ow_risk.sort_values('nis sum',ascending = False)\n",
    "mont_ow_risk['status'] = np.where((mont_ow_risk['deal number']==1) | (mont_ow_risk['clients name'] ==1) | (mont_ow_risk['nis sum'] <= 5000) | (mont_ow_risk['U5'] == 0), 'Regular Report', 'Check')\n",
    "mont_ow_risk = mont_ow_risk[mont_ow_risk['status'] == 'Check']\n",
    "\n",
    "#shared owner risk tranctions\n",
    "mont_ow_risk_merge = mont_ow_risk.merge(check_ow[['clients name','cumsum']], on = 'cumsum', how = 'left' )\n",
    "mont_ow_risk_merge = mont_ow_risk_merge.merge(client[['clients name','citizenship']],left_on = 'clients name_y', right_on = 'clients name', how = 'left')\n",
    "mont_ow_risk_merge = mont_ow_risk_merge.merge(rc[['עברית','סיכון/ללא דיווח רגיל']], left_on = 'citizenship', right_on = 'עברית', how = 'left' )\n",
    "mont_ow_risk_merge = mont_ow_risk_merge[mont_ow_risk_merge['סיכון/ללא דיווח רגיל'].notna()]\n",
    "mont_ow_clients_w_cumsum = mont_ow_clients_w_cumsum.append(mont_ow_risk_merge)\n",
    "mont_ow_risk_merge = mont_ow_risk_merge.drop_duplicates('clients name')\n",
    "mont_ow_risk_merge = mont_ow_risk_merge.drop_duplicates('cumsum')\n",
    "mont_ow_risk_merge['final type_ow'] = 'mr'"
   ]
  },
  {
   "cell_type": "code",
   "execution_count": 160,
   "id": "15cb31a0",
   "metadata": {},
   "outputs": [],
   "source": [
    "#a new data frame containing all kinds of reports\n",
    "all_clients2r = mont_ow_clients[['clients name','final type']].merge(mont2report[['clients name','final type']], on = 'clients name',how = 'outer').fillna('')\n",
    "all_clients2r = all_clients2r.merge(mont2rr[['final type','clients name']], how = 'outer', on = 'clients name').fillna('')\n",
    "all_clients2r = all_clients2r.merge(mont_ow_risk_merge[['final type_ow','clients name']], how = 'outer', on = 'clients name').fillna('')\n",
    "all_clients2r['finaltypedown'] =  all_clients2r['final type_y'] + all_clients2r['final type_x'] + all_clients2r['final type'] + all_clients2r['final type_ow']\n",
    "#all_clients2r['finaltypedown'] =  all_clients2r['final type_y'] + all_clients2r['final type_x'] \n",
    "\n",
    "merged = all_clients2r.drop_duplicates('clients name').reset_index(drop = True)"
   ]
  },
  {
   "cell_type": "code",
   "execution_count": 161,
   "id": "d28270c0",
   "metadata": {},
   "outputs": [],
   "source": [
    "#creating the client details for reports data frame\n",
    "info2r = merged[['clients name','finaltypedown']].merge(client , on = 'clients name', how = 'left').dropna(axis= 1,how = 'all' )\n",
    "#try:\n",
    "info2r['clients name'] = info2r['clients name'].str.replace('\\d+', '')\n",
    "info2r['country'] = 'ישראל'\n",
    "\n",
    "#except KeyError:\n",
    "#    print('no reports')\n",
    "try:\n",
    "    info2r['id number'] = info2r['id number'].fillna(0)\n",
    "    info2r['id number'] = info2r['id number'].astype(int)\n",
    "except:\n",
    "    print('there are letters in one or more of id numbers')\n"
   ]
  },
  {
   "cell_type": "code",
   "execution_count": 162,
   "id": "6f7140ac",
   "metadata": {},
   "outputs": [],
   "source": [
    "#distinguish between company and private name\n",
    "info2r['company name'] = np.where((info2r['id number'] >= 500000000) & (info2r['id number'] <= 600000000) , info2r['clients name'] ,\"\")\n",
    "info2r['person name'] = np.where((info2r['id number'] <= 500000000) | (info2r['id number'] >= 600000000) , info2r['clients name'] ,\"\")\n"
   ]
  },
  {
   "cell_type": "code",
   "execution_count": 163,
   "id": "45d89feb",
   "metadata": {},
   "outputs": [],
   "source": [
    "#distinguish between company and private dob\n",
    "try:\n",
    "    info2r['dob'] = (info2r['dob']).astype(str)\n",
    "    info2r['company birth'] = np.where((info2r['id number'] >= 500000000) & (info2r['id number'] <= 600000000) , info2r['dob'] , '')\n",
    "    info2r['person birth'] = np.where((info2r['id number'] <= 500000000) | (info2r['id number'] >= 600000000) , info2r['dob'] ,'')\n",
    "except KeyError: 'dob'"
   ]
  },
  {
   "cell_type": "code",
   "execution_count": 164,
   "id": "9fca4be6",
   "metadata": {},
   "outputs": [],
   "source": [
    "#distinguish between company and private citizenship\n",
    "info2r['company citizeship'] = np.where((info2r['id number'] >= 500000000) & (info2r['id number'] <= 600000000) , info2r['citizenship'] , '')\n",
    "info2r['person citizenship'] = np.where((info2r['id number'] <= 500000000) | (info2r['id number'] >= 600000000) , info2r['citizenship'] ,'')"
   ]
  },
  {
   "cell_type": "code",
   "execution_count": 165,
   "id": "b3b9dea9",
   "metadata": {},
   "outputs": [],
   "source": [
    "#distinguish between company and private citizenship\n",
    "info2r['company id'] = np.where((info2r['id number'] >= 500000000) & (info2r['id number'] <= 600000000) , info2r['id number'] , '')\n",
    "info2r['person id'] = np.where((info2r['id number'] <= 500000000) | (info2r['id number'] >= 600000000) , info2r['id number'] ,'')"
   ]
  },
  {
   "cell_type": "code",
   "execution_count": 166,
   "id": "ac3351e5",
   "metadata": {},
   "outputs": [],
   "source": [
    "#dropping duplicates and reseting index\n",
    "info2r = info2r.drop_duplicates('clients name')\n",
    "info2r = info2r.reset_index(drop = True)\n",
    "#importing the report number needed\n",
    "\n",
    "report_id = (report_num.iloc[1,5] + 1).astype(int)\n",
    "info2r['report_id'] = report_id + range(len(info2r.index))\n",
    "info2r['report_name'] = report_num.iloc[3,1].rsplit('-',1)[0]"
   ]
  },
  {
   "cell_type": "code",
   "execution_count": 167,
   "id": "c003d81b",
   "metadata": {},
   "outputs": [],
   "source": [
    "info2r = info2r.merge(content, left_on = 'finaltypedown' , right_on = 'type', how = 'left')\n",
    "mont_export = mont_export.merge(info2r[['clients name','finaltypedown']],on = 'clients name', how = 'left')\n",
    "mont_export.to_excel('status.xlsx')"
   ]
  },
  {
   "cell_type": "code",
   "execution_count": 168,
   "id": "f0025fb8",
   "metadata": {},
   "outputs": [],
   "source": [
    "for i in info2r.index:\n",
    "    info2r['Title'].iloc[i]  = info2r['Title'].iloc[i].replace('מדינה',str(info2r['citizenship'].iloc[i]) + ', מדינה')\n",
    "    info2r['Content'].iloc[i]  = info2r['Content'].iloc[i].replace('מדינה',str(info2r['citizenship'].iloc[i]) + ', מדינה')\n"
   ]
  },
  {
   "cell_type": "code",
   "execution_count": 169,
   "id": "387d8c61",
   "metadata": {},
   "outputs": [],
   "source": [
    "info2r.to_excel(\"monitoring.xlsx\")"
   ]
  },
  {
   "cell_type": "code",
   "execution_count": 170,
   "id": "99588c7c",
   "metadata": {},
   "outputs": [],
   "source": [
    "mont2report_w_cumsum['clients name'] = mont2report_w_cumsum['clients name'].str.replace('\\d+', '')"
   ]
  },
  {
   "cell_type": "code",
   "execution_count": 171,
   "id": "7cfd9e6e",
   "metadata": {},
   "outputs": [],
   "source": [
    "info2r = info2r.merge(mont2report_w_cumsum[['clients name','cumsum']],how = \"left\", on = 'clients name')\n"
   ]
  },
  {
   "cell_type": "code",
   "execution_count": 172,
   "id": "b8e86395",
   "metadata": {},
   "outputs": [
    {
     "name": "stdout",
     "output_type": "stream",
     "text": [
      "{'company_name', 'person_citizenship', 'Content', 'city', 'person_birth', 'person_id', 'country', 'person_name', 'address', 'Title', 'report_id', 'company_id', 'company_birth', 'company_citizeship'}\n"
     ]
    }
   ],
   "source": [
    "filepath_check = transction_folder_path+\"\\*טמפלייט*\"\n",
    "txt_check = glob.glob(filepath_check)\n",
    "for textfile in txt_check:\n",
    "    template = textfile\n",
    "document = MailMerge(template)\n",
    "print(document.get_merge_fields())"
   ]
  },
  {
   "cell_type": "code",
   "execution_count": 173,
   "id": "7a487bed",
   "metadata": {},
   "outputs": [],
   "source": [
    "\n",
    "for i in info2r.index:\n",
    "     #template1 = 'test1.docx'\n",
    "    document = MailMerge(template)\n",
    "    document.merge(\n",
    "        person_name = str(info2r['person name'][i]),\n",
    "        company_name = str(info2r['company name'][i]),\n",
    "        person_birth = str(info2r['person birth'][i]),\n",
    "        company_birth = str(info2r['company birth'][i]),\n",
    "        Title = str(info2r['Title'][i]),\n",
    "        person_citizenship = str(info2r['person citizenship'][i]),\n",
    "        Content = str(info2r['Content'][i]),\n",
    "        country = str(info2r['country'][i]),\n",
    "        person_id = str(info2r['person id'][i]),\n",
    "        report_id = str(info2r['report_id'][i]),\n",
    "        city = str(info2r['city'][i]),\n",
    "        address = str(info2r['address'][i]),\n",
    "        company_id = str(info2r['company id'][i]),\n",
    "        company_citizenship = str(info2r['company citizeship'][i]))\n",
    "                                            \n",
    "    \n",
    "\n",
    "    output =  str(info2r['report_name'][i]) + \"-\" + str(info2r['report_id'][i]) + '.docx'\n",
    "    document.write(output)"
   ]
  },
  {
   "cell_type": "code",
   "execution_count": 174,
   "id": "6eb38e61",
   "metadata": {},
   "outputs": [],
   "source": [
    "check[['deal number','check number','bank number','account number','branch number']] = check[['deal number','check number','bank number','account number','branch number']].astype(str)\n",
    "check_ow[['deal number','check number','bank number','account number','branch number']] = check_ow[['deal number','check number','bank number','account number','branch number']].astype(str)"
   ]
  },
  {
   "cell_type": "code",
   "execution_count": 175,
   "id": "53c2a0fb",
   "metadata": {},
   "outputs": [],
   "source": [
    "report_tr = mont2report_w_cumsum[['clients name','cumsum']]\n",
    "\n",
    "check_min = check[['deal number','date','clients name','check number','bank number','account number','branch number','owner name','nis sum','cumsum']]\n",
    "report_tr_min = check_min[check_min['cumsum'].isin(report_tr['cumsum'])]"
   ]
  },
  {
   "cell_type": "code",
   "execution_count": 176,
   "id": "b4942d99",
   "metadata": {},
   "outputs": [],
   "source": [
    "i=0\n",
    "for_word_table=[]\n",
    "xlsx=pd.ExcelWriter(transction_folder_path+r\"/report.xlsx\", engine='openpyxl', mode='w')\n",
    "#round the sum in ils\n",
    "report_tr_min[\"nis sum\"]=report_tr_min[\"nis sum\"].round()\n",
    "\n",
    "#creating a unique list of the sender names\n",
    "ls_cumsum=report_tr_min['cumsum'].unique().tolist()\n",
    "\n",
    "#loop each sender transctions in a unique table\n",
    "for name in ls_cumsum:\n",
    "    df=report_tr_min[report_tr_min[\"cumsum\"]==name]  \n",
    "    data = [[\"סהכ\",df[\"nis sum\"].sum()]]\n",
    "    last_row = pd.DataFrame(data, columns = [\"clients name\", \"nis sum\"])\n",
    "    orderd=pd.concat([df,last_row])\n",
    "    orderd.to_excel(xlsx, sheet_name='Reports',startrow=i,index=False)\n",
    "    for_word_table.append(orderd)\n",
    "    i=i+len(orderd)+2\n",
    "            \n",
    "    xlsx.save()"
   ]
  },
  {
   "cell_type": "code",
   "execution_count": 177,
   "id": "fb63c29e",
   "metadata": {},
   "outputs": [],
   "source": [
    " \n",
    "check_min_ow = check_ow[['deal number','date','clients name','check number','bank number','account number','branch number','owner name','nis sum','cumsum']]\n",
    "report_tr_min_ow = check_min_ow[check_min_ow['cumsum'].isin(mont_ow_clients_w_cumsum['cumsum'])]"
   ]
  },
  {
   "cell_type": "code",
   "execution_count": 178,
   "id": "139dee06",
   "metadata": {},
   "outputs": [],
   "source": [
    "j=0\n",
    "for_word_table_ow=[]\n",
    "xlsx=pd.ExcelWriter(transction_folder_path+r\"/report_ow.xlsx\", engine='openpyxl', mode='w')\n",
    "#round the sum in ils\n",
    "report_tr_min_ow[\"nis sum\"]=report_tr_min_ow[\"nis sum\"].round()\n",
    "\n",
    "#creating a unique list of the sender names\n",
    "ls_customer=report_tr_min[\"clients name\"].unique().tolist()\n",
    "ls_cumsum_ow=mont_ow_clients_w_cumsum['cumsum'].unique().tolist()\n",
    "\n",
    "#loop each sender transctions in a unique table\n",
    "for name in ls_cumsum_ow:\n",
    "    df=report_tr_min_ow[report_tr_min_ow[\"cumsum\"]==name]  \n",
    "    data = [[\"סהכ\",df[\"nis sum\"].sum()]]\n",
    "    last_row = pd.DataFrame(data, columns = [\"clients name\", \"nis sum\"])\n",
    "    orderd=pd.concat([df,last_row])\n",
    "    orderd.to_excel(xlsx, sheet_name='Reports',startrow=j,index=False)\n",
    "    for_word_table_ow.append(orderd)\n",
    "    j=j+len(orderd)+2\n",
    "            \n",
    "    xlsx.save()"
   ]
  },
  {
   "cell_type": "code",
   "execution_count": 179,
   "id": "cded09d9",
   "metadata": {},
   "outputs": [],
   "source": [
    "info2r = info2r.set_index('cumsum')\n"
   ]
  },
  {
   "cell_type": "code",
   "execution_count": 180,
   "id": "c6cd79d1",
   "metadata": {},
   "outputs": [],
   "source": [
    "info2r_nona = info2r[info2r.index.notnull()]"
   ]
  },
  {
   "cell_type": "code",
   "execution_count": 181,
   "id": "14ddd9ad",
   "metadata": {},
   "outputs": [],
   "source": [
    "for title in ls_cumsum:\n",
    "    \n",
    "    data = check[check['cumsum'] == title].round()\n",
    "    table = [[\"סהכ\",data[\"nis sum\"].sum().round(0)]]\n",
    "    last_row = pd.DataFrame(table, columns = [\"owner name\", \"nis sum\"])\n",
    "    orderd=pd.concat([data,last_row])\n",
    "    orderd=orderd[['deal number','date','clients name','check number','bank number','account number','branch number','owner name','nis sum']].fillna(' ')\n",
    "    \n",
    "    orderd=change_names_and_order(transction_folder_path+r\"/change_names.xlsx\",orderd)\n",
    "    \n",
    "    orderd['תאריך פעולה'] = orderd['תאריך פעולה'].astype(str)\n",
    "    orderd['סכום'] = orderd['סכום'].astype(str)\n",
    "    \n",
    "    doc = docx.Document(str(info2r_nona['report_name'].loc[title]) + \"-\" + str(info2r_nona['report_id'].loc[title]) + \".docx\")  \n",
    "\n",
    "    doc.add_page_break()\n",
    "    t = doc.add_table(orderd.shape[0]+1, orderd.shape[1])\n",
    "                        \n",
    "              \n",
    "\n",
    "    for j in range(orderd.shape[-1]):\n",
    "        t.cell(0,j).text = orderd.columns[j]\n",
    "\n",
    "        # add the rest of the data frame\n",
    "    for i in range(orderd.shape[0]):\n",
    "        for j in range(orderd.shape[-1]):\n",
    "            t.cell(i+1,j).text = str(orderd.values[i,j])\n",
    "\n",
    "    t.style = 'Grid Table 4 Accent 5'\n",
    "    \n",
    "    doc.save(str(info2r_nona['report_name'].loc[title]) + \"-\" + str(info2r_nona['report_id'].loc[title]) + \".docx\")\n"
   ]
  },
  {
   "cell_type": "code",
   "execution_count": 182,
   "id": "0f64853d",
   "metadata": {},
   "outputs": [],
   "source": [
    "info2r = info2r.reset_index()"
   ]
  },
  {
   "cell_type": "code",
   "execution_count": 183,
   "id": "430a4fd6",
   "metadata": {},
   "outputs": [],
   "source": [
    "mont_ow_clients_w_cumsum['clients name'] = mont_ow_clients_w_cumsum['clients name'].str.replace('\\d+','')"
   ]
  },
  {
   "cell_type": "code",
   "execution_count": 184,
   "id": "f7a642e9",
   "metadata": {},
   "outputs": [],
   "source": [
    "\n",
    "info2r_ow = info2r[['report_name','report_id','clients name']].merge(mont_ow_clients_w_cumsum[['clients name','cumsum']], on = 'clients name', how = 'inner')\n",
    "info2r_ow = info2r_ow.drop_duplicates('cumsum')\n",
    "info2r_ow = info2r_ow.set_index('cumsum')\n",
    "\n",
    "\n",
    "for title in ls_cumsum_ow:    \n",
    "    data = check_ow[check_ow['cumsum'] == title]\n",
    "    table = [[\"סהכ\",data[\"nis sum\"].sum().round(0)]]\n",
    "    last_row = pd.DataFrame(table, columns = [\"owner name\", \"nis sum\"])\n",
    "    orderd=pd.concat([data,last_row])\n",
    "    orderd=orderd[['deal number','date','clients name','check number','bank number','account number','branch number','owner name','nis sum']].fillna(\" \")\n",
    "    orderd=change_names_and_order(transction_folder_path+r\"/change_names.xlsx\",orderd)\n",
    "    \n",
    "    orderd['תאריך פעולה'] = orderd['תאריך פעולה'].astype(str)\n",
    "    orderd['סכום'] = orderd['סכום'].astype(str)\n",
    "    \n",
    "    doc = docx.Document(str(info2r_ow['report_name'].loc[title]) + \"-\" + str(info2r_ow['report_id'].loc[title]) + \".docx\")  \n",
    "\n",
    "    doc.add_page_break()\n",
    "    t = doc.add_table(orderd.shape[0]+1, orderd.shape[1])                   \n",
    "              \n",
    "\n",
    "    for j in range(orderd.shape[-1]):\n",
    "        t.cell(0,j).text = orderd.columns[j]\n",
    "\n",
    "        # add the rest of the data frame\n",
    "    for i in range(orderd.shape[0]):\n",
    "        for j in range(orderd.shape[-1]):\n",
    "            t.cell(i+1,j).text = str(orderd.values[i,j])\n",
    "\n",
    "    t.style = 'Grid Table 4 Accent 5'\n",
    "   \n",
    "    doc.save(str(info2r_ow['report_name'].loc[title]) + \"-\" + str(info2r_ow['report_id'].loc[title]) + \".docx\")\n",
    "    \n",
    "       "
   ]
  },
  {
   "cell_type": "code",
   "execution_count": 237,
   "id": "632bc4dc",
   "metadata": {},
   "outputs": [],
   "source": [
    "mont['clients name'] = mont['clients name'].str.replace('\\d+', '')\n",
    "mont = mont.merge(info2r[['clients name','finaltypedown']], on = 'clients name', how = 'left')\n",
    "mont = mont.drop_duplicates('cumsum')\n",
    "\n"
   ]
  },
  {
   "cell_type": "code",
   "execution_count": 239,
   "id": "efbd2d61",
   "metadata": {},
   "outputs": [],
   "source": [
    "mont['final status'] =''\n",
    "for i in mont.index:\n",
    "    if mont['reported'][i] != 'check':\n",
    "        mont['final status'][i] = 'דווח בשלושת החודשים האחרונים'\n",
    "    elif mont['fsp_check'][i] != 'check':\n",
    "        mont['final status'][i] = 'נש\"מ'\n",
    "    elif (mont['finaltypedown'][i] == 'm'):\n",
    "        mont['final status'][i] = 'm'\n",
    "    elif ((mont['nis sum'][i] >= 50000) & (mont['U50'][i] == 0)):\n",
    "        mont['final status'][i] = 'הועבר דיווח רגיל'\n",
    "    elif ((mont['סיכון/ללא דיווח רגיל'][i]== 'סיכון') & (mont['U5'][i] == 0)):\n",
    "        mont['final status'][i] = 'הועבר דיווח רגיל'\n",
    "    elif ((mont['nis sum'][i] <= 47000) & (mont['סיכון/ללא דיווח רגיל'][i] != 'סיכון')):\n",
    "        mont['final status'][i] = 'סך עסקאות נמוך מרף הדיווח' \n",
    "    elif (mont['nis sum'][i] <= 4700):\n",
    "        mont['final status'][i] = 'סך עסקאות נמוך מרף הדיווח'\n",
    "    else:\n",
    "        mont['final status'][i] = mont['finaltypedown'][i]\n",
    "        \n",
    "mont['final status'] = mont['final status'].fillna('אין פעילות במשך שלושה ימים ברציפות')\n",
    "mont['final status'] = mont['final status'].replace({'pr':'פיצול בסיכון','p':'פיצול','dr':'דירדוס בסיכון','d':'דירדוס','m':'מושך משותף','mr':'מושך משותף בסיכון','pm':'פיצול ומושך משותף'})\n",
    "\n",
    "\n",
    "mont[['clients name','nis sum','final status']].to_excel('ניטור.xlsx', sheet_name = 'ניטור', index = False)\n",
    "\n",
    "        "
   ]
  },
  {
   "cell_type": "code",
   "execution_count": null,
   "id": "385a1cae",
   "metadata": {},
   "outputs": [],
   "source": []
  }
 ],
 "metadata": {
  "kernelspec": {
   "display_name": "Python 3 (ipykernel)",
   "language": "python",
   "name": "python3"
  },
  "language_info": {
   "codemirror_mode": {
    "name": "ipython",
    "version": 3
   },
   "file_extension": ".py",
   "mimetype": "text/x-python",
   "name": "python",
   "nbconvert_exporter": "python",
   "pygments_lexer": "ipython3",
   "version": "3.9.7"
  }
 },
 "nbformat": 4,
 "nbformat_minor": 5
}
